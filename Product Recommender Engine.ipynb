{
  "nbformat": 4,
  "nbformat_minor": 0,
  "metadata": {
    "kernelspec": {
      "display_name": "Python 3",
      "language": "python",
      "name": "python3"
    },
    "language_info": {
      "codemirror_mode": {
        "name": "ipython",
        "version": 3
      },
      "file_extension": ".py",
      "mimetype": "text/x-python",
      "name": "python",
      "nbconvert_exporter": "python",
      "pygments_lexer": "ipython3",
      "version": "3.6.6"
    },
    "colab": {
      "name": "NAlbanese_recommender",
      "provenance": [],
      "collapsed_sections": [],
      "toc_visible": true
    }
  },
  "cells": [
    {
      "cell_type": "markdown",
      "metadata": {
        "id": "ywhfl5WGHMMl",
        "colab_type": "text"
      },
      "source": [
        "## Product Recommendation Engine"
      ]
    },
    {
      "cell_type": "markdown",
      "metadata": {
        "id": "ggrc_yqRjgse",
        "colab_type": "text"
      },
      "source": [
        "# Table of contents\n",
        "\n",
        "1. [Introduction](#introduction)\n",
        "2. [Environment set-up](#setup)\n",
        "3. [Exploratory analysis](#exploratory)\n",
        "4. [Clustering](#clustering)\n",
        "5. [Observing the clusters](#observing)\n",
        "6. [Prediction on a new customer](#newCustomer)\n",
        "    1. [Infer the cluster the new user blongs to](#infer)\n",
        "      1. [Dimensionality reduction on the new customer](#manual_pca)\n",
        "      2. [Calculate minimum distance from clusters](#centroid_distance)\n",
        "    2. [Create the Utility Matrix only for that cluster](#utilityMatrix)\n",
        "    3. [Singular Value Decomposition (SVD) on the Utility Matrix](#svd)\n",
        "    4. [Correlation Matrix](#correlationMatrix)\n",
        "    5. [Recommendation](#recommendation)\n",
        "\n",
        "\n",
        "<a name=\"introduction\"></a>"
      ]
    },
    {
      "cell_type": "markdown",
      "metadata": {
        "id": "7B-UjRbFmCgJ",
        "colab_type": "text"
      },
      "source": [
        "## 1. Introduction <a name=\"introduction\"></a>\n",
        "\n",
        "___Author___\n",
        "\n",
        "Nicolò Cosimo Albanese (nicolo_albanese@outlook.it)\n",
        "\n",
        "___Scenario___\n",
        "\n",
        "An e-commerce site faces the challenge to recommend to the user products that may interest him.\n",
        "\n",
        "The site has collected several data, including:\n",
        "\n",
        "* Customer master data (genre, age, annual income, spending score).\n",
        "* Customer preferences (products rated by each customer).\n",
        "\n",
        "___Approach___\n",
        "\n",
        "At first, clustering is implemented on the customers based on their master data.\n",
        "\n",
        "When a new (or existing) user purchases a product (or simply open it web page) the recommendation is performed as follows:\n",
        "* The closest cluster is determined on the customer's master data.\n",
        "* The most popular products (highest rating) of that cluster are recommended (\"___You may also like...___\").\n",
        "* The most highly rated products by customers who belong in the same cluster as the user and also rated the product the user has just bought/observed are returned (\"___Suggested for you...___\") through collaborative filtering.\n",
        "\n",
        "___Data set___\n",
        "* [Amazon product review dataset](https://www.kaggle.com/skillsmuggler/amazon-ratings): from this data set, the \"ratings_Beauty.csv\" file is used. It contains a list of user IDs, products IDs and relative ratings. It also contains a timestamp, but this information is not used in this contest. This data set contains more than 2 millions of product reviews on the product section 'Beauty' collected in the period May 1996 - July 2014.\n",
        "\n",
        "* A synthetic data set created ad-hoc to implement fake users data: in this data set, we associate user IDs from the Amazon data set to __fictional__ master data. Age, genre, annual income are completely __invented__ for the analysis' purpose. This data set is inspired by the customer data set available in [this](https://github.com/lucko515/clustering-python/blob/master/Customer%20in%20Mall%20clusterng/Mall_Customers.csv) repository, that also inspired the PCA+K-Means clustering representation approach (Section 4)."
      ]
    },
    {
      "cell_type": "markdown",
      "metadata": {
        "id": "IXCiItLbhgjC",
        "colab_type": "text"
      },
      "source": [
        "## 2. Environment set-up <a name=\"setup\"></a>\n",
        "\n",
        "\n"
      ]
    },
    {
      "cell_type": "code",
      "metadata": {
        "id": "OH7f0sXIUFPd",
        "colab_type": "code",
        "colab": {
          "base_uri": "https://localhost:8080/",
          "height": 34
        },
        "outputId": "0a8daf30-cac0-4801-ad37-49c022b27409"
      },
      "source": [
        "from google.colab import drive\n",
        "drive.mount('/content/drive')"
      ],
      "execution_count": null,
      "outputs": [
        {
          "output_type": "stream",
          "text": [
            "Drive already mounted at /content/drive; to attempt to forcibly remount, call drive.mount(\"/content/drive\", force_remount=True).\n"
          ],
          "name": "stdout"
        }
      ]
    },
    {
      "cell_type": "code",
      "metadata": {
        "id": "GLg27xauHMMn",
        "colab_type": "code",
        "colab": {}
      },
      "source": [
        "import numpy as np\n",
        "import pandas as pd\n",
        "import matplotlib.pyplot as plt\n",
        "\n",
        "# %matplotlib inline\n",
        "plt.style.use(\"ggplot\")\n",
        "\n",
        "import sklearn\n",
        "from sklearn.decomposition import TruncatedSVD, PCA\n",
        "from sklearn.preprocessing import LabelEncoder\n",
        "from sklearn.cluster import KMeans\n",
        "import math"
      ],
      "execution_count": null,
      "outputs": []
    },
    {
      "cell_type": "markdown",
      "metadata": {
        "id": "pWE0nyM4DkOL",
        "colab_type": "text"
      },
      "source": [
        "## 3. Exploratory analysis <a name=\"exploratory\"></a>"
      ]
    },
    {
      "cell_type": "code",
      "metadata": {
        "id": "z5KWjpVQnaMa",
        "colab_type": "code",
        "colab": {
          "base_uri": "https://localhost:8080/",
          "height": 347
        },
        "outputId": "95249ef1-6490-4b53-f793-737545e505e6"
      },
      "source": [
        "customers = pd.read_csv('/content/drive/My Drive/data/customers_info.csv')\n",
        "customers.head(10)"
      ],
      "execution_count": null,
      "outputs": [
        {
          "output_type": "execute_result",
          "data": {
            "text/html": [
              "<div>\n",
              "<style scoped>\n",
              "    .dataframe tbody tr th:only-of-type {\n",
              "        vertical-align: middle;\n",
              "    }\n",
              "\n",
              "    .dataframe tbody tr th {\n",
              "        vertical-align: top;\n",
              "    }\n",
              "\n",
              "    .dataframe thead th {\n",
              "        text-align: right;\n",
              "    }\n",
              "</style>\n",
              "<table border=\"1\" class=\"dataframe\">\n",
              "  <thead>\n",
              "    <tr style=\"text-align: right;\">\n",
              "      <th></th>\n",
              "      <th>CustomerID</th>\n",
              "      <th>Genre</th>\n",
              "      <th>Age</th>\n",
              "      <th>Annual Income</th>\n",
              "      <th>Spending Score</th>\n",
              "    </tr>\n",
              "  </thead>\n",
              "  <tbody>\n",
              "    <tr>\n",
              "      <th>0</th>\n",
              "      <td>A39HTATAQ9V7YF</td>\n",
              "      <td>Male</td>\n",
              "      <td>19</td>\n",
              "      <td>15</td>\n",
              "      <td>39</td>\n",
              "    </tr>\n",
              "    <tr>\n",
              "      <th>1</th>\n",
              "      <td>A3JM6GV9MNOF9X</td>\n",
              "      <td>Male</td>\n",
              "      <td>21</td>\n",
              "      <td>15</td>\n",
              "      <td>81</td>\n",
              "    </tr>\n",
              "    <tr>\n",
              "      <th>2</th>\n",
              "      <td>A1Z513UWSAAO0F</td>\n",
              "      <td>Female</td>\n",
              "      <td>20</td>\n",
              "      <td>16</td>\n",
              "      <td>6</td>\n",
              "    </tr>\n",
              "    <tr>\n",
              "      <th>3</th>\n",
              "      <td>A1WMRR494NWEWV</td>\n",
              "      <td>Female</td>\n",
              "      <td>23</td>\n",
              "      <td>16</td>\n",
              "      <td>77</td>\n",
              "    </tr>\n",
              "    <tr>\n",
              "      <th>4</th>\n",
              "      <td>A3IAAVS479H7M7</td>\n",
              "      <td>Female</td>\n",
              "      <td>31</td>\n",
              "      <td>17</td>\n",
              "      <td>40</td>\n",
              "    </tr>\n",
              "    <tr>\n",
              "      <th>5</th>\n",
              "      <td>AKJHHD5VEH7VG</td>\n",
              "      <td>Female</td>\n",
              "      <td>22</td>\n",
              "      <td>17</td>\n",
              "      <td>76</td>\n",
              "    </tr>\n",
              "    <tr>\n",
              "      <th>6</th>\n",
              "      <td>A3V3RE4132GKRO</td>\n",
              "      <td>Female</td>\n",
              "      <td>35</td>\n",
              "      <td>18</td>\n",
              "      <td>6</td>\n",
              "    </tr>\n",
              "    <tr>\n",
              "      <th>7</th>\n",
              "      <td>A327B0I7CYTEJC</td>\n",
              "      <td>Female</td>\n",
              "      <td>23</td>\n",
              "      <td>18</td>\n",
              "      <td>94</td>\n",
              "    </tr>\n",
              "    <tr>\n",
              "      <th>8</th>\n",
              "      <td>AIFAAVTUYHEHB</td>\n",
              "      <td>Male</td>\n",
              "      <td>64</td>\n",
              "      <td>19</td>\n",
              "      <td>3</td>\n",
              "    </tr>\n",
              "    <tr>\n",
              "      <th>9</th>\n",
              "      <td>AKGB62WGF35J8</td>\n",
              "      <td>Female</td>\n",
              "      <td>30</td>\n",
              "      <td>19</td>\n",
              "      <td>72</td>\n",
              "    </tr>\n",
              "  </tbody>\n",
              "</table>\n",
              "</div>"
            ],
            "text/plain": [
              "       CustomerID   Genre  Age  Annual Income  Spending Score\n",
              "0  A39HTATAQ9V7YF    Male   19             15              39\n",
              "1  A3JM6GV9MNOF9X    Male   21             15              81\n",
              "2  A1Z513UWSAAO0F  Female   20             16               6\n",
              "3  A1WMRR494NWEWV  Female   23             16              77\n",
              "4  A3IAAVS479H7M7  Female   31             17              40\n",
              "5   AKJHHD5VEH7VG  Female   22             17              76\n",
              "6  A3V3RE4132GKRO  Female   35             18               6\n",
              "7  A327B0I7CYTEJC  Female   23             18              94\n",
              "8   AIFAAVTUYHEHB    Male   64             19               3\n",
              "9   AKGB62WGF35J8  Female   30             19              72"
            ]
          },
          "metadata": {
            "tags": []
          },
          "execution_count": 198
        }
      ]
    },
    {
      "cell_type": "code",
      "metadata": {
        "id": "bCLe7YQMonlF",
        "colab_type": "code",
        "colab": {
          "base_uri": "https://localhost:8080/",
          "height": 608
        },
        "outputId": "f4f588a7-c9a3-4e16-e71f-486ab41dec36"
      },
      "source": [
        "plt.rcParams['figure.figsize'] = [10, 10]\n",
        "customers.hist();"
      ],
      "execution_count": null,
      "outputs": [
        {
          "output_type": "display_data",
          "data": {
            "image/png": "[encoded data removed]",
            "text/plain": [
              "<Figure size 720x720 with 4 Axes>"
            ]
          },
          "metadata": {
            "tags": []
          }
        }
      ]
    },
    {
      "cell_type": "code",
      "metadata": {
        "id": "4iOfE0_0o4xb",
        "colab_type": "code",
        "colab": {
          "base_uri": "https://localhost:8080/",
          "height": 584
        },
        "outputId": "98e5fa98-8d8d-4c2c-b1d8-974b7f6a4e21"
      },
      "source": [
        "import seaborn as sb\n",
        "sb.pairplot(customers, diag_kind=\"kde\")"
      ],
      "execution_count": null,
      "outputs": [
        {
          "output_type": "execute_result",
          "data": {
            "text/plain": [
              "<seaborn.axisgrid.PairGrid at 0x7f0ce443fac8>"
            ]
          },
          "metadata": {
            "tags": []
          },
          "execution_count": 180
        },
        {
          "output_type": "display_data",
          "data": {
            "image/png": "[encoded data removed]",
            "text/plain": [
              "<Figure size 540x540 with 12 Axes>"
            ]
          },
          "metadata": {
            "tags": []
          }
        }
      ]
    },
    {
      "cell_type": "code",
      "metadata": {
        "id": "Cz3n3us6pPdi",
        "colab_type": "code",
        "colab": {
          "base_uri": "https://localhost:8080/",
          "height": 88
        },
        "outputId": "81459f60-4e35-45ba-9be8-e565e0923972"
      },
      "source": [
        "correlation_data = customers.corr()\n",
        "correlation_data.style.background_gradient(cmap='coolwarm', axis=None)"
      ],
      "execution_count": null,
      "outputs": [
        {
          "output_type": "execute_result",
          "data": {
            "text/html": [
              "<style  type=\"text/css\" >\n",
              "    #T_40891b96_b3e4_11ea_95f1_0242ac1c0002row0_col0 {\n",
              "            background-color:  #b40426;\n",
              "            color:  #f1f1f1;\n",
              "        }    #T_40891b96_b3e4_11ea_95f1_0242ac1c0002row0_col1 {\n",
              "            background-color:  #98b9ff;\n",
              "            color:  #000000;\n",
              "        }    #T_40891b96_b3e4_11ea_95f1_0242ac1c0002row0_col2 {\n",
              "            background-color:  #3b4cc0;\n",
              "            color:  #f1f1f1;\n",
              "        }    #T_40891b96_b3e4_11ea_95f1_0242ac1c0002row1_col0 {\n",
              "            background-color:  #98b9ff;\n",
              "            color:  #000000;\n",
              "        }    #T_40891b96_b3e4_11ea_95f1_0242ac1c0002row1_col1 {\n",
              "            background-color:  #b40426;\n",
              "            color:  #f1f1f1;\n",
              "        }    #T_40891b96_b3e4_11ea_95f1_0242ac1c0002row1_col2 {\n",
              "            background-color:  #94b6ff;\n",
              "            color:  #000000;\n",
              "        }    #T_40891b96_b3e4_11ea_95f1_0242ac1c0002row2_col0 {\n",
              "            background-color:  #3b4cc0;\n",
              "            color:  #f1f1f1;\n",
              "        }    #T_40891b96_b3e4_11ea_95f1_0242ac1c0002row2_col1 {\n",
              "            background-color:  #94b6ff;\n",
              "            color:  #000000;\n",
              "        }    #T_40891b96_b3e4_11ea_95f1_0242ac1c0002row2_col2 {\n",
              "            background-color:  #b40426;\n",
              "            color:  #f1f1f1;\n",
              "        }</style><table id=\"T_40891b96_b3e4_11ea_95f1_0242ac1c0002\" ><thead>    <tr>        <th class=\"blank level0\" ></th>        <th class=\"col_heading level0 col0\" >Age</th>        <th class=\"col_heading level0 col1\" >Annual Income</th>        <th class=\"col_heading level0 col2\" >Spending Score</th>    </tr></thead><tbody>\n",
              "                <tr>\n",
              "                        <th id=\"T_40891b96_b3e4_11ea_95f1_0242ac1c0002level0_row0\" class=\"row_heading level0 row0\" >Age</th>\n",
              "                        <td id=\"T_40891b96_b3e4_11ea_95f1_0242ac1c0002row0_col0\" class=\"data row0 col0\" >1.000000</td>\n",
              "                        <td id=\"T_40891b96_b3e4_11ea_95f1_0242ac1c0002row0_col1\" class=\"data row0 col1\" >0.026524</td>\n",
              "                        <td id=\"T_40891b96_b3e4_11ea_95f1_0242ac1c0002row0_col2\" class=\"data row0 col2\" >-0.357481</td>\n",
              "            </tr>\n",
              "            <tr>\n",
              "                        <th id=\"T_40891b96_b3e4_11ea_95f1_0242ac1c0002level0_row1\" class=\"row_heading level0 row1\" >Annual Income</th>\n",
              "                        <td id=\"T_40891b96_b3e4_11ea_95f1_0242ac1c0002row1_col0\" class=\"data row1 col0\" >0.026524</td>\n",
              "                        <td id=\"T_40891b96_b3e4_11ea_95f1_0242ac1c0002row1_col1\" class=\"data row1 col1\" >1.000000</td>\n",
              "                        <td id=\"T_40891b96_b3e4_11ea_95f1_0242ac1c0002row1_col2\" class=\"data row1 col2\" >0.008637</td>\n",
              "            </tr>\n",
              "            <tr>\n",
              "                        <th id=\"T_40891b96_b3e4_11ea_95f1_0242ac1c0002level0_row2\" class=\"row_heading level0 row2\" >Spending Score</th>\n",
              "                        <td id=\"T_40891b96_b3e4_11ea_95f1_0242ac1c0002row2_col0\" class=\"data row2 col0\" >-0.357481</td>\n",
              "                        <td id=\"T_40891b96_b3e4_11ea_95f1_0242ac1c0002row2_col1\" class=\"data row2 col1\" >0.008637</td>\n",
              "                        <td id=\"T_40891b96_b3e4_11ea_95f1_0242ac1c0002row2_col2\" class=\"data row2 col2\" >1.000000</td>\n",
              "            </tr>\n",
              "    </tbody></table>"
            ],
            "text/plain": [
              "<pandas.io.formats.style.Styler at 0x7f0cd40d9048>"
            ]
          },
          "metadata": {
            "tags": []
          },
          "execution_count": 181
        }
      ]
    },
    {
      "cell_type": "markdown",
      "metadata": {
        "id": "Lvm0A-brpfJV",
        "colab_type": "text"
      },
      "source": [
        "## 4. Clustering <a name=\"clustering\"></a>"
      ]
    },
    {
      "cell_type": "code",
      "metadata": {
        "id": "qpZsc5pgpXuI",
        "colab_type": "code",
        "colab": {}
      },
      "source": [
        "# remove customer id\n",
        "customers_data = customers.drop('CustomerID', axis=1)\n",
        "\n",
        "# encode the gender to 0-1 instead of Male-Female\n",
        "encode = LabelEncoder()\n",
        "encoded_sex = encode.fit_transform(customers_data.iloc[:, 0])\n",
        "customers_data['Genre'] = encoded_sex\n",
        "\n",
        "# dimensionality reduction through PCA\n",
        "pca_reducer = PCA(n_components=2)\n",
        "reduced_data = pca_reducer.fit_transform(customers_data)\n",
        "\n",
        "# clustering the customers (let's suppose we have 5 clusters)\n",
        "km = KMeans(n_clusters=5)\n",
        "cluster_reduced = km.fit(reduced_data)"
      ],
      "execution_count": null,
      "outputs": []
    },
    {
      "cell_type": "code",
      "metadata": {
        "id": "yMQG96rrqT1J",
        "colab_type": "code",
        "colab": {
          "base_uri": "https://localhost:8080/",
          "height": 626
        },
        "outputId": "04a9797b-a69c-49a0-f4c1-9c853a147111"
      },
      "source": [
        "plt.scatter(reduced_data[:, 0], reduced_data[:, 1], marker='^', color='blue', label='Datapoints')\n",
        "plt.scatter(cluster_reduced.cluster_centers_[:, 0], cluster_reduced.cluster_centers_[:, 1], s=500, marker='o', color='red', label='Clusters')\n",
        "plt.title(\"Customers clusters\")"
      ],
      "execution_count": null,
      "outputs": [
        {
          "output_type": "execute_result",
          "data": {
            "text/plain": [
              "Text(0.5, 1.0, 'Customers clusters')"
            ]
          },
          "metadata": {
            "tags": []
          },
          "execution_count": 202
        },
        {
          "output_type": "display_data",
          "data": {
            "image/png": "[encoded data removed]",
            "text/plain": [
              "<Figure size 720x720 with 1 Axes>"
            ]
          },
          "metadata": {
            "tags": []
          }
        }
      ]
    },
    {
      "cell_type": "markdown",
      "metadata": {
        "id": "e-l-Y8eaDyy0",
        "colab_type": "text"
      },
      "source": [
        "## 5. Observing the clusters <a name=\"observing\"></a>"
      ]
    },
    {
      "cell_type": "code",
      "metadata": {
        "id": "P-nfzlX2wrHT",
        "colab_type": "code",
        "colab": {
          "base_uri": "https://localhost:8080/",
          "height": 197
        },
        "outputId": "11f3ba83-d813-4204-a745-1c1c55a9d6f2"
      },
      "source": [
        "predict = km.predict(reduced_data)\n",
        "customers['Cluster'] = pd.Series(predict)\n",
        "\n",
        "customers.head()"
      ],
      "execution_count": null,
      "outputs": [
        {
          "output_type": "execute_result",
          "data": {
            "text/html": [
              "<div>\n",
              "<style scoped>\n",
              "    .dataframe tbody tr th:only-of-type {\n",
              "        vertical-align: middle;\n",
              "    }\n",
              "\n",
              "    .dataframe tbody tr th {\n",
              "        vertical-align: top;\n",
              "    }\n",
              "\n",
              "    .dataframe thead th {\n",
              "        text-align: right;\n",
              "    }\n",
              "</style>\n",
              "<table border=\"1\" class=\"dataframe\">\n",
              "  <thead>\n",
              "    <tr style=\"text-align: right;\">\n",
              "      <th></th>\n",
              "      <th>CustomerID</th>\n",
              "      <th>Genre</th>\n",
              "      <th>Age</th>\n",
              "      <th>Annual Income</th>\n",
              "      <th>Spending Score</th>\n",
              "      <th>Cluster</th>\n",
              "    </tr>\n",
              "  </thead>\n",
              "  <tbody>\n",
              "    <tr>\n",
              "      <th>0</th>\n",
              "      <td>A39HTATAQ9V7YF</td>\n",
              "      <td>Male</td>\n",
              "      <td>19</td>\n",
              "      <td>15</td>\n",
              "      <td>39</td>\n",
              "      <td>3</td>\n",
              "    </tr>\n",
              "    <tr>\n",
              "      <th>1</th>\n",
              "      <td>A3JM6GV9MNOF9X</td>\n",
              "      <td>Male</td>\n",
              "      <td>21</td>\n",
              "      <td>15</td>\n",
              "      <td>81</td>\n",
              "      <td>1</td>\n",
              "    </tr>\n",
              "    <tr>\n",
              "      <th>2</th>\n",
              "      <td>A1Z513UWSAAO0F</td>\n",
              "      <td>Female</td>\n",
              "      <td>20</td>\n",
              "      <td>16</td>\n",
              "      <td>6</td>\n",
              "      <td>3</td>\n",
              "    </tr>\n",
              "    <tr>\n",
              "      <th>3</th>\n",
              "      <td>A1WMRR494NWEWV</td>\n",
              "      <td>Female</td>\n",
              "      <td>23</td>\n",
              "      <td>16</td>\n",
              "      <td>77</td>\n",
              "      <td>1</td>\n",
              "    </tr>\n",
              "    <tr>\n",
              "      <th>4</th>\n",
              "      <td>A3IAAVS479H7M7</td>\n",
              "      <td>Female</td>\n",
              "      <td>31</td>\n",
              "      <td>17</td>\n",
              "      <td>40</td>\n",
              "      <td>3</td>\n",
              "    </tr>\n",
              "  </tbody>\n",
              "</table>\n",
              "</div>"
            ],
            "text/plain": [
              "       CustomerID   Genre  Age  Annual Income  Spending Score  Cluster\n",
              "0  A39HTATAQ9V7YF    Male   19             15              39        3\n",
              "1  A3JM6GV9MNOF9X    Male   21             15              81        1\n",
              "2  A1Z513UWSAAO0F  Female   20             16               6        3\n",
              "3  A1WMRR494NWEWV  Female   23             16              77        1\n",
              "4  A3IAAVS479H7M7  Female   31             17              40        3"
            ]
          },
          "metadata": {
            "tags": []
          },
          "execution_count": 204
        }
      ]
    },
    {
      "cell_type": "code",
      "metadata": {
        "id": "u_GlEPctyy8C",
        "colab_type": "code",
        "colab": {
          "base_uri": "https://localhost:8080/",
          "height": 672
        },
        "outputId": "a9def457-4b43-4ced-bfa9-e65821119f07"
      },
      "source": [
        "print(customers.groupby(\"Cluster\")[\"Annual Income\", \"Spending Score\", \"Age\"].mean())\n",
        "\n",
        "fig, ax = plt.subplots(figsize=(15,7))\n",
        "customers.groupby(\"Cluster\")[\"Annual Income\", \"Spending Score\", \"Age\"].mean().plot.bar(ax=ax)\n",
        "plt.title(\"Average features in each cluster\")"
      ],
      "execution_count": null,
      "outputs": [
        {
          "output_type": "stream",
          "text": [
            "         Annual Income  Spending Score        Age\n",
            "Cluster                                          \n",
            "0            88.735294       16.764706  41.647059\n",
            "1            25.727273       79.363636  25.272727\n",
            "2            86.538462       82.128205  32.692308\n",
            "3            26.304348       20.913043  45.217391\n",
            "4            53.532847       49.678832  42.788321\n"
          ],
          "name": "stdout"
        },
        {
          "output_type": "stream",
          "text": [
            "/usr/local/lib/python3.6/dist-packages/ipykernel_launcher.py:1: FutureWarning: Indexing with multiple keys (implicitly converted to a tuple of keys) will be deprecated, use a list instead.\n",
            "  \"\"\"Entry point for launching an IPython kernel.\n",
            "/usr/local/lib/python3.6/dist-packages/ipykernel_launcher.py:4: FutureWarning: Indexing with multiple keys (implicitly converted to a tuple of keys) will be deprecated, use a list instead.\n",
            "  after removing the cwd from sys.path.\n"
          ],
          "name": "stderr"
        },
        {
          "output_type": "execute_result",
          "data": {
            "text/plain": [
              "Text(0.5, 1.0, 'Average features in each cluster')"
            ]
          },
          "metadata": {
            "tags": []
          },
          "execution_count": 205
        },
        {
          "output_type": "display_data",
          "data": {
            "image/png": "[encoded data removed]",
            "text/plain": [
              "<Figure size 1080x504 with 1 Axes>"
            ]
          },
          "metadata": {
            "tags": []
          }
        }
      ]
    },
    {
      "cell_type": "code",
      "metadata": {
        "id": "0xLCmz0mDQui",
        "colab_type": "code",
        "colab": {
          "base_uri": "https://localhost:8080/",
          "height": 811
        },
        "outputId": "f13f9cda-9112-4559-c174-97117bec446f"
      },
      "source": [
        "print(customers.groupby([\"Cluster\", \"Genre\"])[\"Annual Income\", \"Spending Score\", \"Age\"].mean())\n",
        "\n",
        "fig, ax = plt.subplots(figsize=(15,7))\n",
        "customers.groupby([\"Cluster\", \"Genre\"])[\"Annual Income\", \"Spending Score\", \"Age\"].mean().plot.bar(ax=ax)\n",
        "plt.title(\"Average values in each cluster grouped by genre\")"
      ],
      "execution_count": null,
      "outputs": [
        {
          "output_type": "stream",
          "text": [
            "                Annual Income  Spending Score        Age\n",
            "Cluster Genre                                           \n",
            "0       Female      92.333333       21.600000  44.600000\n",
            "        Male        85.894737       12.947368  39.315789\n",
            "1       Female      25.692308       80.538462  25.461538\n",
            "        Male        25.777778       77.666667  25.000000\n",
            "2       Female      86.047619       81.666667  32.190476\n",
            "        Male        87.111111       82.666667  33.277778\n",
            "3       Female      27.357143       21.714286  43.214286\n",
            "        Male        24.666667       19.666667  48.333333\n",
            "4       Female      53.456790       49.185185  41.382716\n",
            "        Male        53.642857       50.392857  44.821429\n"
          ],
          "name": "stdout"
        },
        {
          "output_type": "stream",
          "text": [
            "/usr/local/lib/python3.6/dist-packages/ipykernel_launcher.py:1: FutureWarning: Indexing with multiple keys (implicitly converted to a tuple of keys) will be deprecated, use a list instead.\n",
            "  \"\"\"Entry point for launching an IPython kernel.\n",
            "/usr/local/lib/python3.6/dist-packages/ipykernel_launcher.py:4: FutureWarning: Indexing with multiple keys (implicitly converted to a tuple of keys) will be deprecated, use a list instead.\n",
            "  after removing the cwd from sys.path.\n"
          ],
          "name": "stderr"
        },
        {
          "output_type": "execute_result",
          "data": {
            "text/plain": [
              "Text(0.5, 1.0, 'Average values in each cluster grouped by genre')"
            ]
          },
          "metadata": {
            "tags": []
          },
          "execution_count": 206
        },
        {
          "output_type": "display_data",
          "data": {
            "image/png": "[encoded data removed]",
            "text/plain": [
              "<Figure size 1080x504 with 1 Axes>"
            ]
          },
          "metadata": {
            "tags": []
          }
        }
      ]
    },
    {
      "cell_type": "code",
      "metadata": {
        "id": "6883zasQLOJ6",
        "colab_type": "code",
        "colab": {
          "base_uri": "https://localhost:8080/",
          "height": 263
        },
        "outputId": "144a30f3-d0e3-41b9-82ce-5049d717eeec"
      },
      "source": [
        "# save clusters information for future analysis\n",
        "clusters_df = pd.DataFrame(customers.groupby(\"Cluster\")[\"Annual Income\", \"Spending Score\", \"Age\"].mean(), columns = [ 'Annual Income', 'Spending Score', 'Age'])\n",
        "\n",
        "clusters_df"
      ],
      "execution_count": null,
      "outputs": [
        {
          "output_type": "stream",
          "text": [
            "/usr/local/lib/python3.6/dist-packages/ipykernel_launcher.py:2: FutureWarning: Indexing with multiple keys (implicitly converted to a tuple of keys) will be deprecated, use a list instead.\n",
            "  \n"
          ],
          "name": "stderr"
        },
        {
          "output_type": "execute_result",
          "data": {
            "text/html": [
              "<div>\n",
              "<style scoped>\n",
              "    .dataframe tbody tr th:only-of-type {\n",
              "        vertical-align: middle;\n",
              "    }\n",
              "\n",
              "    .dataframe tbody tr th {\n",
              "        vertical-align: top;\n",
              "    }\n",
              "\n",
              "    .dataframe thead th {\n",
              "        text-align: right;\n",
              "    }\n",
              "</style>\n",
              "<table border=\"1\" class=\"dataframe\">\n",
              "  <thead>\n",
              "    <tr style=\"text-align: right;\">\n",
              "      <th></th>\n",
              "      <th>Annual Income</th>\n",
              "      <th>Spending Score</th>\n",
              "      <th>Age</th>\n",
              "    </tr>\n",
              "    <tr>\n",
              "      <th>Cluster</th>\n",
              "      <th></th>\n",
              "      <th></th>\n",
              "      <th></th>\n",
              "    </tr>\n",
              "  </thead>\n",
              "  <tbody>\n",
              "    <tr>\n",
              "      <th>0</th>\n",
              "      <td>88.735294</td>\n",
              "      <td>16.764706</td>\n",
              "      <td>41.647059</td>\n",
              "    </tr>\n",
              "    <tr>\n",
              "      <th>1</th>\n",
              "      <td>25.727273</td>\n",
              "      <td>79.363636</td>\n",
              "      <td>25.272727</td>\n",
              "    </tr>\n",
              "    <tr>\n",
              "      <th>2</th>\n",
              "      <td>86.538462</td>\n",
              "      <td>82.128205</td>\n",
              "      <td>32.692308</td>\n",
              "    </tr>\n",
              "    <tr>\n",
              "      <th>3</th>\n",
              "      <td>26.304348</td>\n",
              "      <td>20.913043</td>\n",
              "      <td>45.217391</td>\n",
              "    </tr>\n",
              "    <tr>\n",
              "      <th>4</th>\n",
              "      <td>53.532847</td>\n",
              "      <td>49.678832</td>\n",
              "      <td>42.788321</td>\n",
              "    </tr>\n",
              "  </tbody>\n",
              "</table>\n",
              "</div>"
            ],
            "text/plain": [
              "         Annual Income  Spending Score        Age\n",
              "Cluster                                          \n",
              "0            88.735294       16.764706  41.647059\n",
              "1            25.727273       79.363636  25.272727\n",
              "2            86.538462       82.128205  32.692308\n",
              "3            26.304348       20.913043  45.217391\n",
              "4            53.532847       49.678832  42.788321"
            ]
          },
          "metadata": {
            "tags": []
          },
          "execution_count": 207
        }
      ]
    },
    {
      "cell_type": "markdown",
      "metadata": {
        "id": "WRatQRB0FDjc",
        "colab_type": "text"
      },
      "source": [
        "## 6. Prediction on a new customer <a name=\"newCustomer\"></a>"
      ]
    },
    {
      "cell_type": "markdown",
      "metadata": {
        "id": "eHm2dfirh68l",
        "colab_type": "text"
      },
      "source": [
        "### 6.1 Infer the cluster the new user belongs to <a name=\"infer\"></a>\n",
        "\n"
      ]
    },
    {
      "cell_type": "code",
      "metadata": {
        "id": "UWWDv1KXE1BW",
        "colab_type": "code",
        "colab": {
          "base_uri": "https://localhost:8080/",
          "height": 77
        },
        "outputId": "626741a7-67b4-4249-ef3e-b1bae11dc2a3"
      },
      "source": [
        "new_customer = {\n",
        "    \"CustomerID\": \"C37JEAEAF1R8RA\",\n",
        "     \"Genre\": \"Male\",\n",
        "     \"Age\": 26,\n",
        "     \"Annual Income\": 78,\n",
        "     \"Spending Score\": 91\n",
        "}\n",
        "\n",
        "new_customer_df = pd.DataFrame(new_customer, index=[0])\n",
        "\n",
        "new_customer_df"
      ],
      "execution_count": null,
      "outputs": [
        {
          "output_type": "execute_result",
          "data": {
            "text/html": [
              "<div>\n",
              "<style scoped>\n",
              "    .dataframe tbody tr th:only-of-type {\n",
              "        vertical-align: middle;\n",
              "    }\n",
              "\n",
              "    .dataframe tbody tr th {\n",
              "        vertical-align: top;\n",
              "    }\n",
              "\n",
              "    .dataframe thead th {\n",
              "        text-align: right;\n",
              "    }\n",
              "</style>\n",
              "<table border=\"1\" class=\"dataframe\">\n",
              "  <thead>\n",
              "    <tr style=\"text-align: right;\">\n",
              "      <th></th>\n",
              "      <th>CustomerID</th>\n",
              "      <th>Genre</th>\n",
              "      <th>Age</th>\n",
              "      <th>Annual Income</th>\n",
              "      <th>Spending Score</th>\n",
              "    </tr>\n",
              "  </thead>\n",
              "  <tbody>\n",
              "    <tr>\n",
              "      <th>0</th>\n",
              "      <td>C37JEAEAF1R8RA</td>\n",
              "      <td>Male</td>\n",
              "      <td>26</td>\n",
              "      <td>78</td>\n",
              "      <td>91</td>\n",
              "    </tr>\n",
              "  </tbody>\n",
              "</table>\n",
              "</div>"
            ],
            "text/plain": [
              "       CustomerID Genre  Age  Annual Income  Spending Score\n",
              "0  C37JEAEAF1R8RA  Male   26             78              91"
            ]
          },
          "metadata": {
            "tags": []
          },
          "execution_count": 208
        }
      ]
    },
    {
      "cell_type": "markdown",
      "metadata": {
        "id": "aGWuZwj5Dfmm",
        "colab_type": "text"
      },
      "source": [
        "We preprocess the new customer's information as we have done previously with all customers: the ID is removed and the genre is labeled."
      ]
    },
    {
      "cell_type": "code",
      "metadata": {
        "id": "OTJrEagX9dSm",
        "colab_type": "code",
        "colab": {}
      },
      "source": [
        "# preprocess the new customer's information\n",
        "new_customer_df = new_customer_df.drop('CustomerID', axis=1)\n",
        "\n",
        "# encode the gender to 0-1 instead of Male-Female\n",
        "encoded_sex = encode.fit_transform(new_customer_df.iloc[:, 0])\n",
        "new_customer_df['Genre'] = encoded_sex"
      ],
      "execution_count": null,
      "outputs": []
    },
    {
      "cell_type": "markdown",
      "metadata": {
        "id": "o_wM6uYRIDU5",
        "colab_type": "text"
      },
      "source": [
        "#### 6.1.1 Dimensionality reduction on the new customer <a name=\"manual_pca\"></a>"
      ]
    },
    {
      "cell_type": "markdown",
      "metadata": {
        "id": "rqj-3EBUDpZh",
        "colab_type": "text"
      },
      "source": [
        "Now we have to perform dimensionality reduction on the new customer to represent it in the same space as the clusters, and then calculate the minimum distance between all clusters' centroids to infer the cluster the new customer belongs to.\n",
        "\n",
        "We have to perform this calculation manually through the __projection matrix__.\n",
        "Therefore, we also estimate the error in the manual calculation by checking if we would get the same output as \"fit_transform\" on the original data."
      ]
    },
    {
      "cell_type": "code",
      "metadata": {
        "id": "YQLKBDyb8_J4",
        "colab_type": "code",
        "colab": {
          "base_uri": "https://localhost:8080/",
          "height": 105
        },
        "outputId": "b3855223-3495-4db0-d41b-e31fee408057"
      },
      "source": [
        "fit_pca = pca_reducer.fit(customers_data)\n",
        "\n",
        "# projection matrix\n",
        "projection_matrix = fit_pca.components_\n",
        "\n",
        "# check if it is orthogonal \n",
        "print(\"Projection matrix:\\n\", np.dot(projection_matrix, np.transpose(projection_matrix)))\n",
        "\n",
        "# mean vector all data\n",
        "mean_vc = customers_data.mean(axis = 0)\n",
        "\n",
        "# center with old mean and rotate\n",
        "np.dot(new_customer_df - mean_vc, np.transpose(projection_matrix))\n",
        "\n",
        "# check if we get the same output as fit_transform (on the original data)\n",
        "out1 = pca_reducer.fit_transform(customers_data)\n",
        "out2 = np.dot(customers_data - mean_vc, np.transpose(projection_matrix))\n",
        "diff = abs(out1 - out2)\n",
        "\n",
        "print(\"\\nManual reduction error between \", diff.min() , \" and \", diff.max())"
      ],
      "execution_count": null,
      "outputs": [
        {
          "output_type": "stream",
          "text": [
            "Projection matrix:\n",
            " [[1.00000000e+00 3.76792002e-16]\n",
            " [3.76792002e-16 1.00000000e+00]]\n",
            "\n",
            "Manual reduction error between  0.0  and  5.684341886080802e-14\n"
          ],
          "name": "stdout"
        }
      ]
    },
    {
      "cell_type": "markdown",
      "metadata": {
        "id": "8rjoIPuhEKME",
        "colab_type": "text"
      },
      "source": [
        "The error is very close to zero. As we have verified that our procedure is correct, we perform dimensionality reduction on the new customer."
      ]
    },
    {
      "cell_type": "code",
      "metadata": {
        "id": "BzFTSvMQBwUe",
        "colab_type": "code",
        "colab": {}
      },
      "source": [
        "new_customer_reduced = np.dot(new_customer_df - mean_vc, np.transpose(projection_matrix))"
      ],
      "execution_count": null,
      "outputs": []
    },
    {
      "cell_type": "markdown",
      "metadata": {
        "id": "gCo2nKf6Ijpf",
        "colab_type": "text"
      },
      "source": [
        "#### 6.1.2 Calculate minimum distance from clusters' centroids <a name=\"centroid_distance\"></a>"
      ]
    },
    {
      "cell_type": "code",
      "metadata": {
        "id": "ENMKAQk3DD1y",
        "colab_type": "code",
        "colab": {
          "base_uri": "https://localhost:8080/",
          "height": 626
        },
        "outputId": "9cdef80b-aa03-41c8-f633-146209a7dea4"
      },
      "source": [
        "plt.scatter(new_customer_reduced[:, 0], new_customer_reduced[:, 1], marker='^', s=150, color='blue', label='New customer')\n",
        "plt.scatter(cluster_reduced.cluster_centers_[:, 0], cluster_reduced.cluster_centers_[:, 1], s=150, marker='o', color='red', label='Clusters')\n",
        "plt.title(\"New customer vs Clusters centroids\")\n",
        "plt.legend()"
      ],
      "execution_count": null,
      "outputs": [
        {
          "output_type": "execute_result",
          "data": {
            "text/plain": [
              "<matplotlib.legend.Legend at 0x7f0ce657e710>"
            ]
          },
          "metadata": {
            "tags": []
          },
          "execution_count": 238
        },
        {
          "output_type": "display_data",
          "data": {
            "image/png": "[encoded data removed]",
            "text/plain": [
              "<Figure size 720x720 with 1 Axes>"
            ]
          },
          "metadata": {
            "tags": []
          }
        }
      ]
    },
    {
      "cell_type": "code",
      "metadata": {
        "id": "BG8KxkTqDCMZ",
        "colab_type": "code",
        "colab": {}
      },
      "source": [
        "def calculateDistance(x1,y1,x2,y2):  \n",
        "     dist = math.sqrt((x2 - x1)**2 + (y2 - y1)**2)  \n",
        "     return dist"
      ],
      "execution_count": null,
      "outputs": []
    },
    {
      "cell_type": "code",
      "metadata": {
        "id": "f9_1usbXCyJb",
        "colab_type": "code",
        "colab": {
          "base_uri": "https://localhost:8080/",
          "height": 158
        },
        "outputId": "7e979f48-59dd-423f-8d06-96169015f263"
      },
      "source": [
        "new_customer_distances = []\n",
        "\n",
        "for i in range(len(cluster_reduced.cluster_centers_)):\n",
        "  new_customer_distances.append( calculateDistance(new_customer_reduced[0][0], new_customer_reduced[0][1], cluster_reduced.cluster_centers_[i][1], cluster_reduced.cluster_centers_[i][1] ) )\n",
        "\n",
        "print(\"The cluster for this customer is: \", new_customer_clusters.index(min(new_customer_clusters)))\n",
        "\n",
        "print(\"\\nThe distances from each cluster's centroid is:\")\n",
        "for i in range(len(new_customer_distances)):\n",
        "  print(f'[cluster {i}]\\tDistance from centroid: {new_customer_distances[i]}')"
      ],
      "execution_count": null,
      "outputs": [
        {
          "output_type": "stream",
          "text": [
            "The cluster for this customer is:  0\n",
            "\n",
            "The distances from each cluster's centroid is:\n",
            "[cluster 0]\tDistance from centroid: 45.508290945835604\n",
            "[cluster 1]\tDistance from centroid: 49.58672068235507\n",
            "[cluster 2]\tDistance from centroid: 90.0087224750613\n",
            "[cluster 3]\tDistance from centroid: 51.37585279697813\n",
            "[cluster 4]\tDistance from centroid: 74.0731900601039\n"
          ],
          "name": "stdout"
        }
      ]
    },
    {
      "cell_type": "markdown",
      "metadata": {
        "id": "TWRVKBQeSXpj",
        "colab_type": "text"
      },
      "source": [
        "### 6.2 Create the Utility Matrix only for that cluster <a name=\"utilityMatrix\"></a>"
      ]
    },
    {
      "cell_type": "code",
      "metadata": {
        "id": "_yHkJRFcShQx",
        "colab_type": "code",
        "colab": {}
      },
      "source": [
        "clustered_customers_df = customers.loc[customers[\"Cluster\"] == new_customer_clusters.index(min(new_customer_clusters))]"
      ],
      "execution_count": null,
      "outputs": []
    },
    {
      "cell_type": "code",
      "metadata": {
        "id": "4iEjKTD-Tlt9",
        "colab_type": "code",
        "colab": {
          "base_uri": "https://localhost:8080/",
          "height": 197
        },
        "outputId": "582fb499-3f7c-4e06-d178-2ca51c532ee4"
      },
      "source": [
        "# import the ratings\n",
        "ratings_df = pd.read_csv('/content/drive/My Drive/data/ratings_Beauty.csv')\n",
        "\n",
        "# remove timestamp column\n",
        "ratings_df = ratings_df.drop('Timestamp', axis=1)\n",
        "\n",
        "# remove NULLs\n",
        "ratings_df = ratings_df.dropna()\n",
        "\n",
        "ratings_df.head()"
      ],
      "execution_count": null,
      "outputs": [
        {
          "output_type": "execute_result",
          "data": {
            "text/html": [
              "<div>\n",
              "<style scoped>\n",
              "    .dataframe tbody tr th:only-of-type {\n",
              "        vertical-align: middle;\n",
              "    }\n",
              "\n",
              "    .dataframe tbody tr th {\n",
              "        vertical-align: top;\n",
              "    }\n",
              "\n",
              "    .dataframe thead th {\n",
              "        text-align: right;\n",
              "    }\n",
              "</style>\n",
              "<table border=\"1\" class=\"dataframe\">\n",
              "  <thead>\n",
              "    <tr style=\"text-align: right;\">\n",
              "      <th></th>\n",
              "      <th>UserId</th>\n",
              "      <th>ProductId</th>\n",
              "      <th>Rating</th>\n",
              "    </tr>\n",
              "  </thead>\n",
              "  <tbody>\n",
              "    <tr>\n",
              "      <th>0</th>\n",
              "      <td>A39HTATAQ9V7YF</td>\n",
              "      <td>0205616461</td>\n",
              "      <td>5.0</td>\n",
              "    </tr>\n",
              "    <tr>\n",
              "      <th>1</th>\n",
              "      <td>A3JM6GV9MNOF9X</td>\n",
              "      <td>0558925278</td>\n",
              "      <td>3.0</td>\n",
              "    </tr>\n",
              "    <tr>\n",
              "      <th>2</th>\n",
              "      <td>A1Z513UWSAAO0F</td>\n",
              "      <td>0558925278</td>\n",
              "      <td>5.0</td>\n",
              "    </tr>\n",
              "    <tr>\n",
              "      <th>3</th>\n",
              "      <td>A1WMRR494NWEWV</td>\n",
              "      <td>0733001998</td>\n",
              "      <td>4.0</td>\n",
              "    </tr>\n",
              "    <tr>\n",
              "      <th>4</th>\n",
              "      <td>A3IAAVS479H7M7</td>\n",
              "      <td>0737104473</td>\n",
              "      <td>1.0</td>\n",
              "    </tr>\n",
              "  </tbody>\n",
              "</table>\n",
              "</div>"
            ],
            "text/plain": [
              "           UserId   ProductId  Rating\n",
              "0  A39HTATAQ9V7YF  0205616461     5.0\n",
              "1  A3JM6GV9MNOF9X  0558925278     3.0\n",
              "2  A1Z513UWSAAO0F  0558925278     5.0\n",
              "3  A1WMRR494NWEWV  0733001998     4.0\n",
              "4  A3IAAVS479H7M7  0737104473     1.0"
            ]
          },
          "metadata": {
            "tags": []
          },
          "execution_count": 262
        }
      ]
    },
    {
      "cell_type": "code",
      "metadata": {
        "id": "z2bWlsdLToW9",
        "colab_type": "code",
        "colab": {}
      },
      "source": [
        "# filter the ratings for the customers of that cluster\n",
        "ratings_cluster = ratings_df[ratings_df['UserId'].isin(clustered_customers_df[\"CustomerID\"])]"
      ],
      "execution_count": null,
      "outputs": []
    },
    {
      "cell_type": "code",
      "metadata": {
        "id": "W2fz85gZUgPL",
        "colab_type": "code",
        "colab": {
          "base_uri": "https://localhost:8080/",
          "height": 52
        },
        "outputId": "ea7e207f-0d84-4611-ef39-1e218a938895"
      },
      "source": [
        "# let's check that the original ratings dataframe is reduced\n",
        "\n",
        "print(\"Original ratings dimension: \", ratings_df.shape)\n",
        "print(\"Ratings filtered by cluster dimension: \", ratings_cluster.shape)"
      ],
      "execution_count": null,
      "outputs": [
        {
          "output_type": "stream",
          "text": [
            "Original ratings dimension:  (2023070, 3)\n",
            "Ratings filtered by cluster dimension:  (89, 3)\n"
          ],
          "name": "stdout"
        }
      ]
    },
    {
      "cell_type": "code",
      "metadata": {
        "id": "qKyyGwKqU05r",
        "colab_type": "code",
        "colab": {
          "base_uri": "https://localhost:8080/",
          "height": 247
        },
        "outputId": "0a40eacf-091b-4258-930c-979f0f2b27ba"
      },
      "source": [
        "# finally, the Utility Matrix:\n",
        "ratings_utility_matrix = ratings_cluster.pivot_table(values='Rating', index='UserId', columns='ProductId', fill_value=0)\n",
        "ratings_utility_matrix.head()"
      ],
      "execution_count": null,
      "outputs": [
        {
          "output_type": "execute_result",
          "data": {
            "text/html": [
              "<div>\n",
              "<style scoped>\n",
              "    .dataframe tbody tr th:only-of-type {\n",
              "        vertical-align: middle;\n",
              "    }\n",
              "\n",
              "    .dataframe tbody tr th {\n",
              "        vertical-align: top;\n",
              "    }\n",
              "\n",
              "    .dataframe thead th {\n",
              "        text-align: right;\n",
              "    }\n",
              "</style>\n",
              "<table border=\"1\" class=\"dataframe\">\n",
              "  <thead>\n",
              "    <tr style=\"text-align: right;\">\n",
              "      <th>ProductId</th>\n",
              "      <th>4057553908</th>\n",
              "      <th>5297000963</th>\n",
              "      <th>5357954771</th>\n",
              "      <th>535795531X</th>\n",
              "      <th>535795545X</th>\n",
              "      <th>5357955743</th>\n",
              "      <th>5357955786</th>\n",
              "      <th>5357955832</th>\n",
              "      <th>5357955867</th>\n",
              "      <th>5357955905</th>\n",
              "      <th>5357955948</th>\n",
              "      <th>5357956014</th>\n",
              "      <th>5357956111</th>\n",
              "      <th>5357956227</th>\n",
              "      <th>6022600685</th>\n",
              "      <th>602260074X</th>\n",
              "      <th>B0001EKTZQ</th>\n",
              "      <th>B0007CXXYG</th>\n",
              "      <th>B000980PGM</th>\n",
              "      <th>B0009EXOO6</th>\n",
              "      <th>B0009I4MFW</th>\n",
              "      <th>B000ASDGK8</th>\n",
              "      <th>B000H73UOO</th>\n",
              "      <th>B000HRVC5I</th>\n",
              "      <th>B000ICR9UO</th>\n",
              "      <th>B000MS3XW2</th>\n",
              "      <th>B000MS5M9O</th>\n",
              "      <th>B000O2OB9K</th>\n",
              "      <th>B000PKUZC8</th>\n",
              "      <th>B000PKZFFU</th>\n",
              "      <th>B000PKZG22</th>\n",
              "      <th>B000U0F9GA</th>\n",
              "      <th>B000ULL7C4</th>\n",
              "      <th>B000VIY38G</th>\n",
              "      <th>B000XSPQ62</th>\n",
              "      <th>B000ZLNRAE</th>\n",
              "      <th>B0012FOOF4</th>\n",
              "      <th>B0012NXGRI</th>\n",
              "      <th>B0012O2KWY</th>\n",
              "      <th>B0013EF31I</th>\n",
              "      <th>B0013NE2Y8</th>\n",
              "      <th>B0014R2YRA</th>\n",
              "      <th>B0015Q0RP6</th>\n",
              "      <th>B0016LACRS</th>\n",
              "      <th>B0018CQKXK</th>\n",
              "      <th>B001B1MUSW</th>\n",
              "      <th>B001F51PXA</th>\n",
              "      <th>B001HKR6WM</th>\n",
              "      <th>B001TOSNSC</th>\n",
              "      <th>B0028J7DXS</th>\n",
              "      <th>B002KHS6IO</th>\n",
              "      <th>B002QANC2A</th>\n",
              "      <th>B002R23I76</th>\n",
              "      <th>B002TPO0W8</th>\n",
              "      <th>B002XY7HDE</th>\n",
              "      <th>B003GCWJFS</th>\n",
              "      <th>B003UTEE32</th>\n",
              "      <th>B004AGMBHK</th>\n",
              "      <th>B004BPVF7W</th>\n",
              "      <th>B004CDTD90</th>\n",
              "      <th>B004JTSUJ6</th>\n",
              "      <th>B004M0U3YM</th>\n",
              "      <th>B004TSFBNK</th>\n",
              "      <th>B004TSFEBY</th>\n",
              "      <th>B004WMJDS2</th>\n",
              "      <th>B0050KLBXU</th>\n",
              "      <th>B005JDPI28</th>\n",
              "      <th>B005JDPJAY</th>\n",
              "      <th>B0082D69H0</th>\n",
              "      <th>B00AYLYETS</th>\n",
              "      <th>B00FU574H2</th>\n",
              "    </tr>\n",
              "    <tr>\n",
              "      <th>UserId</th>\n",
              "      <th></th>\n",
              "      <th></th>\n",
              "      <th></th>\n",
              "      <th></th>\n",
              "      <th></th>\n",
              "      <th></th>\n",
              "      <th></th>\n",
              "      <th></th>\n",
              "      <th></th>\n",
              "      <th></th>\n",
              "      <th></th>\n",
              "      <th></th>\n",
              "      <th></th>\n",
              "      <th></th>\n",
              "      <th></th>\n",
              "      <th></th>\n",
              "      <th></th>\n",
              "      <th></th>\n",
              "      <th></th>\n",
              "      <th></th>\n",
              "      <th></th>\n",
              "      <th></th>\n",
              "      <th></th>\n",
              "      <th></th>\n",
              "      <th></th>\n",
              "      <th></th>\n",
              "      <th></th>\n",
              "      <th></th>\n",
              "      <th></th>\n",
              "      <th></th>\n",
              "      <th></th>\n",
              "      <th></th>\n",
              "      <th></th>\n",
              "      <th></th>\n",
              "      <th></th>\n",
              "      <th></th>\n",
              "      <th></th>\n",
              "      <th></th>\n",
              "      <th></th>\n",
              "      <th></th>\n",
              "      <th></th>\n",
              "      <th></th>\n",
              "      <th></th>\n",
              "      <th></th>\n",
              "      <th></th>\n",
              "      <th></th>\n",
              "      <th></th>\n",
              "      <th></th>\n",
              "      <th></th>\n",
              "      <th></th>\n",
              "      <th></th>\n",
              "      <th></th>\n",
              "      <th></th>\n",
              "      <th></th>\n",
              "      <th></th>\n",
              "      <th></th>\n",
              "      <th></th>\n",
              "      <th></th>\n",
              "      <th></th>\n",
              "      <th></th>\n",
              "      <th></th>\n",
              "      <th></th>\n",
              "      <th></th>\n",
              "      <th></th>\n",
              "      <th></th>\n",
              "      <th></th>\n",
              "      <th></th>\n",
              "      <th></th>\n",
              "      <th></th>\n",
              "      <th></th>\n",
              "      <th></th>\n",
              "    </tr>\n",
              "  </thead>\n",
              "  <tbody>\n",
              "    <tr>\n",
              "      <th>A10ZKDOZOSH219</th>\n",
              "      <td>5</td>\n",
              "      <td>0</td>\n",
              "      <td>0</td>\n",
              "      <td>0</td>\n",
              "      <td>0</td>\n",
              "      <td>0</td>\n",
              "      <td>0</td>\n",
              "      <td>0</td>\n",
              "      <td>0</td>\n",
              "      <td>0</td>\n",
              "      <td>0</td>\n",
              "      <td>0</td>\n",
              "      <td>0</td>\n",
              "      <td>0</td>\n",
              "      <td>0</td>\n",
              "      <td>0</td>\n",
              "      <td>0</td>\n",
              "      <td>0</td>\n",
              "      <td>0</td>\n",
              "      <td>0</td>\n",
              "      <td>0</td>\n",
              "      <td>0</td>\n",
              "      <td>0</td>\n",
              "      <td>0</td>\n",
              "      <td>0</td>\n",
              "      <td>0</td>\n",
              "      <td>0</td>\n",
              "      <td>0</td>\n",
              "      <td>0</td>\n",
              "      <td>0</td>\n",
              "      <td>0</td>\n",
              "      <td>0</td>\n",
              "      <td>0</td>\n",
              "      <td>0</td>\n",
              "      <td>0</td>\n",
              "      <td>0</td>\n",
              "      <td>0</td>\n",
              "      <td>0</td>\n",
              "      <td>0</td>\n",
              "      <td>0</td>\n",
              "      <td>0</td>\n",
              "      <td>0</td>\n",
              "      <td>0</td>\n",
              "      <td>0</td>\n",
              "      <td>0</td>\n",
              "      <td>0</td>\n",
              "      <td>0</td>\n",
              "      <td>0</td>\n",
              "      <td>0</td>\n",
              "      <td>0</td>\n",
              "      <td>0</td>\n",
              "      <td>0</td>\n",
              "      <td>0</td>\n",
              "      <td>0</td>\n",
              "      <td>0</td>\n",
              "      <td>0</td>\n",
              "      <td>0</td>\n",
              "      <td>0</td>\n",
              "      <td>0</td>\n",
              "      <td>0</td>\n",
              "      <td>0</td>\n",
              "      <td>0</td>\n",
              "      <td>0</td>\n",
              "      <td>0</td>\n",
              "      <td>0</td>\n",
              "      <td>0</td>\n",
              "      <td>0</td>\n",
              "      <td>0</td>\n",
              "      <td>0</td>\n",
              "      <td>0</td>\n",
              "      <td>0</td>\n",
              "    </tr>\n",
              "    <tr>\n",
              "      <th>A13IIHXY0QX4Y4</th>\n",
              "      <td>0</td>\n",
              "      <td>0</td>\n",
              "      <td>0</td>\n",
              "      <td>3</td>\n",
              "      <td>0</td>\n",
              "      <td>0</td>\n",
              "      <td>0</td>\n",
              "      <td>0</td>\n",
              "      <td>0</td>\n",
              "      <td>0</td>\n",
              "      <td>0</td>\n",
              "      <td>0</td>\n",
              "      <td>0</td>\n",
              "      <td>0</td>\n",
              "      <td>0</td>\n",
              "      <td>0</td>\n",
              "      <td>5</td>\n",
              "      <td>0</td>\n",
              "      <td>4</td>\n",
              "      <td>0</td>\n",
              "      <td>0</td>\n",
              "      <td>0</td>\n",
              "      <td>5</td>\n",
              "      <td>0</td>\n",
              "      <td>0</td>\n",
              "      <td>0</td>\n",
              "      <td>0</td>\n",
              "      <td>0</td>\n",
              "      <td>4</td>\n",
              "      <td>5</td>\n",
              "      <td>5</td>\n",
              "      <td>0</td>\n",
              "      <td>0</td>\n",
              "      <td>5</td>\n",
              "      <td>5</td>\n",
              "      <td>5</td>\n",
              "      <td>3</td>\n",
              "      <td>0</td>\n",
              "      <td>0</td>\n",
              "      <td>5</td>\n",
              "      <td>0</td>\n",
              "      <td>0</td>\n",
              "      <td>0</td>\n",
              "      <td>0</td>\n",
              "      <td>0</td>\n",
              "      <td>0</td>\n",
              "      <td>0</td>\n",
              "      <td>0</td>\n",
              "      <td>0</td>\n",
              "      <td>0</td>\n",
              "      <td>5</td>\n",
              "      <td>0</td>\n",
              "      <td>0</td>\n",
              "      <td>0</td>\n",
              "      <td>0</td>\n",
              "      <td>0</td>\n",
              "      <td>0</td>\n",
              "      <td>5</td>\n",
              "      <td>0</td>\n",
              "      <td>0</td>\n",
              "      <td>0</td>\n",
              "      <td>0</td>\n",
              "      <td>0</td>\n",
              "      <td>0</td>\n",
              "      <td>0</td>\n",
              "      <td>0</td>\n",
              "      <td>0</td>\n",
              "      <td>0</td>\n",
              "      <td>0</td>\n",
              "      <td>0</td>\n",
              "      <td>0</td>\n",
              "    </tr>\n",
              "    <tr>\n",
              "      <th>A16495HOSCEV0N</th>\n",
              "      <td>0</td>\n",
              "      <td>0</td>\n",
              "      <td>0</td>\n",
              "      <td>0</td>\n",
              "      <td>0</td>\n",
              "      <td>0</td>\n",
              "      <td>0</td>\n",
              "      <td>5</td>\n",
              "      <td>0</td>\n",
              "      <td>0</td>\n",
              "      <td>0</td>\n",
              "      <td>0</td>\n",
              "      <td>0</td>\n",
              "      <td>0</td>\n",
              "      <td>0</td>\n",
              "      <td>0</td>\n",
              "      <td>0</td>\n",
              "      <td>0</td>\n",
              "      <td>0</td>\n",
              "      <td>0</td>\n",
              "      <td>0</td>\n",
              "      <td>0</td>\n",
              "      <td>0</td>\n",
              "      <td>0</td>\n",
              "      <td>0</td>\n",
              "      <td>0</td>\n",
              "      <td>0</td>\n",
              "      <td>0</td>\n",
              "      <td>0</td>\n",
              "      <td>0</td>\n",
              "      <td>0</td>\n",
              "      <td>0</td>\n",
              "      <td>0</td>\n",
              "      <td>0</td>\n",
              "      <td>0</td>\n",
              "      <td>0</td>\n",
              "      <td>0</td>\n",
              "      <td>0</td>\n",
              "      <td>0</td>\n",
              "      <td>0</td>\n",
              "      <td>0</td>\n",
              "      <td>0</td>\n",
              "      <td>0</td>\n",
              "      <td>0</td>\n",
              "      <td>0</td>\n",
              "      <td>0</td>\n",
              "      <td>0</td>\n",
              "      <td>0</td>\n",
              "      <td>0</td>\n",
              "      <td>0</td>\n",
              "      <td>0</td>\n",
              "      <td>0</td>\n",
              "      <td>0</td>\n",
              "      <td>0</td>\n",
              "      <td>0</td>\n",
              "      <td>0</td>\n",
              "      <td>0</td>\n",
              "      <td>0</td>\n",
              "      <td>0</td>\n",
              "      <td>0</td>\n",
              "      <td>0</td>\n",
              "      <td>0</td>\n",
              "      <td>0</td>\n",
              "      <td>0</td>\n",
              "      <td>0</td>\n",
              "      <td>0</td>\n",
              "      <td>0</td>\n",
              "      <td>0</td>\n",
              "      <td>0</td>\n",
              "      <td>0</td>\n",
              "      <td>0</td>\n",
              "    </tr>\n",
              "    <tr>\n",
              "      <th>A18CAHNYYC8AA3</th>\n",
              "      <td>0</td>\n",
              "      <td>0</td>\n",
              "      <td>0</td>\n",
              "      <td>0</td>\n",
              "      <td>0</td>\n",
              "      <td>0</td>\n",
              "      <td>0</td>\n",
              "      <td>0</td>\n",
              "      <td>0</td>\n",
              "      <td>0</td>\n",
              "      <td>0</td>\n",
              "      <td>5</td>\n",
              "      <td>0</td>\n",
              "      <td>0</td>\n",
              "      <td>0</td>\n",
              "      <td>0</td>\n",
              "      <td>0</td>\n",
              "      <td>0</td>\n",
              "      <td>0</td>\n",
              "      <td>0</td>\n",
              "      <td>0</td>\n",
              "      <td>0</td>\n",
              "      <td>0</td>\n",
              "      <td>0</td>\n",
              "      <td>0</td>\n",
              "      <td>0</td>\n",
              "      <td>0</td>\n",
              "      <td>0</td>\n",
              "      <td>0</td>\n",
              "      <td>0</td>\n",
              "      <td>0</td>\n",
              "      <td>0</td>\n",
              "      <td>0</td>\n",
              "      <td>0</td>\n",
              "      <td>0</td>\n",
              "      <td>0</td>\n",
              "      <td>0</td>\n",
              "      <td>0</td>\n",
              "      <td>0</td>\n",
              "      <td>0</td>\n",
              "      <td>0</td>\n",
              "      <td>0</td>\n",
              "      <td>0</td>\n",
              "      <td>0</td>\n",
              "      <td>0</td>\n",
              "      <td>0</td>\n",
              "      <td>0</td>\n",
              "      <td>0</td>\n",
              "      <td>0</td>\n",
              "      <td>0</td>\n",
              "      <td>0</td>\n",
              "      <td>0</td>\n",
              "      <td>0</td>\n",
              "      <td>0</td>\n",
              "      <td>0</td>\n",
              "      <td>0</td>\n",
              "      <td>0</td>\n",
              "      <td>0</td>\n",
              "      <td>0</td>\n",
              "      <td>0</td>\n",
              "      <td>0</td>\n",
              "      <td>0</td>\n",
              "      <td>0</td>\n",
              "      <td>0</td>\n",
              "      <td>0</td>\n",
              "      <td>0</td>\n",
              "      <td>0</td>\n",
              "      <td>0</td>\n",
              "      <td>0</td>\n",
              "      <td>0</td>\n",
              "      <td>0</td>\n",
              "    </tr>\n",
              "    <tr>\n",
              "      <th>A18X2IP46I5JB8</th>\n",
              "      <td>0</td>\n",
              "      <td>0</td>\n",
              "      <td>0</td>\n",
              "      <td>0</td>\n",
              "      <td>5</td>\n",
              "      <td>0</td>\n",
              "      <td>0</td>\n",
              "      <td>0</td>\n",
              "      <td>0</td>\n",
              "      <td>0</td>\n",
              "      <td>0</td>\n",
              "      <td>0</td>\n",
              "      <td>0</td>\n",
              "      <td>0</td>\n",
              "      <td>0</td>\n",
              "      <td>0</td>\n",
              "      <td>0</td>\n",
              "      <td>0</td>\n",
              "      <td>0</td>\n",
              "      <td>0</td>\n",
              "      <td>5</td>\n",
              "      <td>0</td>\n",
              "      <td>0</td>\n",
              "      <td>0</td>\n",
              "      <td>0</td>\n",
              "      <td>0</td>\n",
              "      <td>0</td>\n",
              "      <td>0</td>\n",
              "      <td>0</td>\n",
              "      <td>0</td>\n",
              "      <td>0</td>\n",
              "      <td>0</td>\n",
              "      <td>0</td>\n",
              "      <td>0</td>\n",
              "      <td>0</td>\n",
              "      <td>0</td>\n",
              "      <td>0</td>\n",
              "      <td>0</td>\n",
              "      <td>0</td>\n",
              "      <td>0</td>\n",
              "      <td>0</td>\n",
              "      <td>0</td>\n",
              "      <td>0</td>\n",
              "      <td>0</td>\n",
              "      <td>0</td>\n",
              "      <td>0</td>\n",
              "      <td>0</td>\n",
              "      <td>0</td>\n",
              "      <td>0</td>\n",
              "      <td>0</td>\n",
              "      <td>0</td>\n",
              "      <td>0</td>\n",
              "      <td>0</td>\n",
              "      <td>0</td>\n",
              "      <td>0</td>\n",
              "      <td>0</td>\n",
              "      <td>0</td>\n",
              "      <td>0</td>\n",
              "      <td>0</td>\n",
              "      <td>0</td>\n",
              "      <td>0</td>\n",
              "      <td>0</td>\n",
              "      <td>0</td>\n",
              "      <td>0</td>\n",
              "      <td>0</td>\n",
              "      <td>0</td>\n",
              "      <td>0</td>\n",
              "      <td>0</td>\n",
              "      <td>0</td>\n",
              "      <td>0</td>\n",
              "      <td>0</td>\n",
              "    </tr>\n",
              "  </tbody>\n",
              "</table>\n",
              "</div>"
            ],
            "text/plain": [
              "ProductId       4057553908  5297000963  ...  B00AYLYETS  B00FU574H2\n",
              "UserId                                  ...                        \n",
              "A10ZKDOZOSH219           5           0  ...           0           0\n",
              "A13IIHXY0QX4Y4           0           0  ...           0           0\n",
              "A16495HOSCEV0N           0           0  ...           0           0\n",
              "A18CAHNYYC8AA3           0           0  ...           0           0\n",
              "A18X2IP46I5JB8           0           0  ...           0           0\n",
              "\n",
              "[5 rows x 71 columns]"
            ]
          },
          "metadata": {
            "tags": []
          },
          "execution_count": 265
        }
      ]
    },
    {
      "cell_type": "code",
      "metadata": {
        "id": "xVabTTKBVaSK",
        "colab_type": "code",
        "colab": {
          "base_uri": "https://localhost:8080/",
          "height": 247
        },
        "outputId": "3861923d-0776-432d-d307-87c4dfe4a55c"
      },
      "source": [
        "# Transposed\n",
        "X = ratings_utility_matrix.T\n",
        "X.head()"
      ],
      "execution_count": null,
      "outputs": [
        {
          "output_type": "execute_result",
          "data": {
            "text/html": [
              "<div>\n",
              "<style scoped>\n",
              "    .dataframe tbody tr th:only-of-type {\n",
              "        vertical-align: middle;\n",
              "    }\n",
              "\n",
              "    .dataframe tbody tr th {\n",
              "        vertical-align: top;\n",
              "    }\n",
              "\n",
              "    .dataframe thead th {\n",
              "        text-align: right;\n",
              "    }\n",
              "</style>\n",
              "<table border=\"1\" class=\"dataframe\">\n",
              "  <thead>\n",
              "    <tr style=\"text-align: right;\">\n",
              "      <th>UserId</th>\n",
              "      <th>A10ZKDOZOSH219</th>\n",
              "      <th>A13IIHXY0QX4Y4</th>\n",
              "      <th>A16495HOSCEV0N</th>\n",
              "      <th>A18CAHNYYC8AA3</th>\n",
              "      <th>A18X2IP46I5JB8</th>\n",
              "      <th>A1B07LXV78TWZ</th>\n",
              "      <th>A1C4OJZCDI8LN3</th>\n",
              "      <th>A1L8MP88Q3DXXJ</th>\n",
              "      <th>A1MOOCFYF4BW9F</th>\n",
              "      <th>A1NNJ0MNFIF3Z8</th>\n",
              "      <th>A1UDWB8WFFGN55</th>\n",
              "      <th>A1X1X91COEBHVI</th>\n",
              "      <th>A1XD9BN1CBR8U4</th>\n",
              "      <th>A24662VRPFY4YK</th>\n",
              "      <th>A29AQSCFQ1OZ9R</th>\n",
              "      <th>A2DOQ89OLXNHNL</th>\n",
              "      <th>A2EH8T3LQS6EET</th>\n",
              "      <th>A2UQZD76FKVQ6D</th>\n",
              "      <th>A34LP4FWKYTHB5</th>\n",
              "      <th>A3590W7FEAGQY4</th>\n",
              "      <th>A364UC5PLUM8M3</th>\n",
              "      <th>A38JQUXZTKKHQP</th>\n",
              "      <th>A39GFZUNMWJ44J</th>\n",
              "      <th>A3B0M39TDARC6X</th>\n",
              "      <th>A3UFMKLD77O21S</th>\n",
              "      <th>A3VUS3HC1CCVOQ</th>\n",
              "      <th>A7SVI5Q1WC3UP</th>\n",
              "      <th>ADZZCC6UUMA0N</th>\n",
              "      <th>AM0RSD59GI2IK</th>\n",
              "      <th>AOJRTF5PJMIR6</th>\n",
              "      <th>AQFATFCB1HBG3</th>\n",
              "      <th>ARUSOE3CJ7TNF</th>\n",
              "      <th>AVCSVH9L0BPIF</th>\n",
              "      <th>AYHZNXRPOHMO2</th>\n",
              "    </tr>\n",
              "    <tr>\n",
              "      <th>ProductId</th>\n",
              "      <th></th>\n",
              "      <th></th>\n",
              "      <th></th>\n",
              "      <th></th>\n",
              "      <th></th>\n",
              "      <th></th>\n",
              "      <th></th>\n",
              "      <th></th>\n",
              "      <th></th>\n",
              "      <th></th>\n",
              "      <th></th>\n",
              "      <th></th>\n",
              "      <th></th>\n",
              "      <th></th>\n",
              "      <th></th>\n",
              "      <th></th>\n",
              "      <th></th>\n",
              "      <th></th>\n",
              "      <th></th>\n",
              "      <th></th>\n",
              "      <th></th>\n",
              "      <th></th>\n",
              "      <th></th>\n",
              "      <th></th>\n",
              "      <th></th>\n",
              "      <th></th>\n",
              "      <th></th>\n",
              "      <th></th>\n",
              "      <th></th>\n",
              "      <th></th>\n",
              "      <th></th>\n",
              "      <th></th>\n",
              "      <th></th>\n",
              "      <th></th>\n",
              "    </tr>\n",
              "  </thead>\n",
              "  <tbody>\n",
              "    <tr>\n",
              "      <th>4057553908</th>\n",
              "      <td>5</td>\n",
              "      <td>0</td>\n",
              "      <td>0</td>\n",
              "      <td>0</td>\n",
              "      <td>0</td>\n",
              "      <td>0</td>\n",
              "      <td>0</td>\n",
              "      <td>0</td>\n",
              "      <td>0</td>\n",
              "      <td>0</td>\n",
              "      <td>0</td>\n",
              "      <td>0</td>\n",
              "      <td>0</td>\n",
              "      <td>0</td>\n",
              "      <td>0</td>\n",
              "      <td>0</td>\n",
              "      <td>0</td>\n",
              "      <td>0</td>\n",
              "      <td>0</td>\n",
              "      <td>0</td>\n",
              "      <td>0</td>\n",
              "      <td>0</td>\n",
              "      <td>0</td>\n",
              "      <td>0</td>\n",
              "      <td>0</td>\n",
              "      <td>0</td>\n",
              "      <td>0</td>\n",
              "      <td>0</td>\n",
              "      <td>0</td>\n",
              "      <td>0</td>\n",
              "      <td>0</td>\n",
              "      <td>0</td>\n",
              "      <td>0</td>\n",
              "      <td>0</td>\n",
              "    </tr>\n",
              "    <tr>\n",
              "      <th>5297000963</th>\n",
              "      <td>0</td>\n",
              "      <td>0</td>\n",
              "      <td>0</td>\n",
              "      <td>0</td>\n",
              "      <td>0</td>\n",
              "      <td>0</td>\n",
              "      <td>0</td>\n",
              "      <td>0</td>\n",
              "      <td>0</td>\n",
              "      <td>0</td>\n",
              "      <td>0</td>\n",
              "      <td>0</td>\n",
              "      <td>0</td>\n",
              "      <td>0</td>\n",
              "      <td>0</td>\n",
              "      <td>0</td>\n",
              "      <td>0</td>\n",
              "      <td>0</td>\n",
              "      <td>0</td>\n",
              "      <td>0</td>\n",
              "      <td>0</td>\n",
              "      <td>0</td>\n",
              "      <td>0</td>\n",
              "      <td>0</td>\n",
              "      <td>0</td>\n",
              "      <td>0</td>\n",
              "      <td>0</td>\n",
              "      <td>0</td>\n",
              "      <td>0</td>\n",
              "      <td>0</td>\n",
              "      <td>0</td>\n",
              "      <td>1</td>\n",
              "      <td>0</td>\n",
              "      <td>0</td>\n",
              "    </tr>\n",
              "    <tr>\n",
              "      <th>5357954771</th>\n",
              "      <td>0</td>\n",
              "      <td>0</td>\n",
              "      <td>0</td>\n",
              "      <td>0</td>\n",
              "      <td>0</td>\n",
              "      <td>0</td>\n",
              "      <td>0</td>\n",
              "      <td>0</td>\n",
              "      <td>0</td>\n",
              "      <td>0</td>\n",
              "      <td>0</td>\n",
              "      <td>0</td>\n",
              "      <td>0</td>\n",
              "      <td>0</td>\n",
              "      <td>0</td>\n",
              "      <td>0</td>\n",
              "      <td>0</td>\n",
              "      <td>0</td>\n",
              "      <td>0</td>\n",
              "      <td>0</td>\n",
              "      <td>0</td>\n",
              "      <td>0</td>\n",
              "      <td>0</td>\n",
              "      <td>0</td>\n",
              "      <td>0</td>\n",
              "      <td>0</td>\n",
              "      <td>0</td>\n",
              "      <td>0</td>\n",
              "      <td>0</td>\n",
              "      <td>0</td>\n",
              "      <td>0</td>\n",
              "      <td>0</td>\n",
              "      <td>5</td>\n",
              "      <td>0</td>\n",
              "    </tr>\n",
              "    <tr>\n",
              "      <th>535795531X</th>\n",
              "      <td>0</td>\n",
              "      <td>3</td>\n",
              "      <td>0</td>\n",
              "      <td>0</td>\n",
              "      <td>0</td>\n",
              "      <td>5</td>\n",
              "      <td>0</td>\n",
              "      <td>0</td>\n",
              "      <td>0</td>\n",
              "      <td>0</td>\n",
              "      <td>0</td>\n",
              "      <td>0</td>\n",
              "      <td>0</td>\n",
              "      <td>0</td>\n",
              "      <td>0</td>\n",
              "      <td>0</td>\n",
              "      <td>0</td>\n",
              "      <td>5</td>\n",
              "      <td>0</td>\n",
              "      <td>0</td>\n",
              "      <td>0</td>\n",
              "      <td>0</td>\n",
              "      <td>0</td>\n",
              "      <td>5</td>\n",
              "      <td>5</td>\n",
              "      <td>0</td>\n",
              "      <td>0</td>\n",
              "      <td>0</td>\n",
              "      <td>0</td>\n",
              "      <td>0</td>\n",
              "      <td>0</td>\n",
              "      <td>0</td>\n",
              "      <td>0</td>\n",
              "      <td>0</td>\n",
              "    </tr>\n",
              "    <tr>\n",
              "      <th>535795545X</th>\n",
              "      <td>0</td>\n",
              "      <td>0</td>\n",
              "      <td>0</td>\n",
              "      <td>0</td>\n",
              "      <td>5</td>\n",
              "      <td>0</td>\n",
              "      <td>0</td>\n",
              "      <td>0</td>\n",
              "      <td>0</td>\n",
              "      <td>0</td>\n",
              "      <td>0</td>\n",
              "      <td>0</td>\n",
              "      <td>0</td>\n",
              "      <td>0</td>\n",
              "      <td>5</td>\n",
              "      <td>0</td>\n",
              "      <td>0</td>\n",
              "      <td>0</td>\n",
              "      <td>0</td>\n",
              "      <td>5</td>\n",
              "      <td>0</td>\n",
              "      <td>0</td>\n",
              "      <td>0</td>\n",
              "      <td>0</td>\n",
              "      <td>0</td>\n",
              "      <td>0</td>\n",
              "      <td>0</td>\n",
              "      <td>0</td>\n",
              "      <td>0</td>\n",
              "      <td>0</td>\n",
              "      <td>0</td>\n",
              "      <td>0</td>\n",
              "      <td>0</td>\n",
              "      <td>0</td>\n",
              "    </tr>\n",
              "  </tbody>\n",
              "</table>\n",
              "</div>"
            ],
            "text/plain": [
              "UserId      A10ZKDOZOSH219  A13IIHXY0QX4Y4  ...  AVCSVH9L0BPIF  AYHZNXRPOHMO2\n",
              "ProductId                                   ...                              \n",
              "4057553908               5               0  ...              0              0\n",
              "5297000963               0               0  ...              0              0\n",
              "5357954771               0               0  ...              5              0\n",
              "535795531X               0               3  ...              0              0\n",
              "535795545X               0               0  ...              0              0\n",
              "\n",
              "[5 rows x 34 columns]"
            ]
          },
          "metadata": {
            "tags": []
          },
          "execution_count": 266
        }
      ]
    },
    {
      "cell_type": "markdown",
      "metadata": {
        "id": "v4oOhcwkVviB",
        "colab_type": "text"
      },
      "source": [
        "### 6.3 Singular Value Decomposition (SVD) on the Utility Matrix <a name=\"svd\"></a>"
      ]
    },
    {
      "cell_type": "code",
      "metadata": {
        "id": "MKj1Is6PVeSN",
        "colab_type": "code",
        "colab": {
          "base_uri": "https://localhost:8080/",
          "height": 34
        },
        "outputId": "9ba46a72-91c4-4d88-8fd3-faee7e42d482"
      },
      "source": [
        "SVD = TruncatedSVD(n_components=10)\n",
        "decomposed_matrix = SVD.fit_transform(X)\n",
        "decomposed_matrix.shape"
      ],
      "execution_count": null,
      "outputs": [
        {
          "output_type": "execute_result",
          "data": {
            "text/plain": [
              "(71, 10)"
            ]
          },
          "metadata": {
            "tags": []
          },
          "execution_count": 267
        }
      ]
    },
    {
      "cell_type": "markdown",
      "metadata": {
        "id": "S6arfKGmV_z0",
        "colab_type": "text"
      },
      "source": [
        "### 6.4 Correlation Matrix <a name=\"correlationMatrix\"></a>"
      ]
    },
    {
      "cell_type": "code",
      "metadata": {
        "id": "jp4DDL33VgJU",
        "colab_type": "code",
        "colab": {
          "base_uri": "https://localhost:8080/",
          "height": 34
        },
        "outputId": "f0868341-cf67-43b2-d2e4-36a3c2598d93"
      },
      "source": [
        "correlation_matrix = np.corrcoef(decomposed_matrix)\n",
        "correlation_matrix.shape"
      ],
      "execution_count": null,
      "outputs": [
        {
          "output_type": "execute_result",
          "data": {
            "text/plain": [
              "(71, 71)"
            ]
          },
          "metadata": {
            "tags": []
          },
          "execution_count": 268
        }
      ]
    },
    {
      "cell_type": "markdown",
      "metadata": {
        "id": "NNvC0nLNiV70",
        "colab_type": "text"
      },
      "source": [
        "### 6.5 Recommendation <a name=\"recommendation\"></a>"
      ]
    },
    {
      "cell_type": "markdown",
      "metadata": {
        "id": "Tr5tT0iqWHxp",
        "colab_type": "text"
      },
      "source": [
        "Now the prediction: let's pretend that the new user has purchased (or has just searched for) the product ID \"B00AYLYETS\".\n",
        "\n",
        "We can make two predictions:\n",
        "\n",
        "* Suggest to the user the products that were rated the most by users in his cluster that also bought this product (\"__Products suggested for you...__\")\n",
        "\n",
        "* Suggest to the user the most popular products in his cluster (\"__You may also like...__\")"
      ]
    },
    {
      "cell_type": "code",
      "metadata": {
        "id": "rNU6cidaVhbJ",
        "colab_type": "code",
        "colab": {}
      },
      "source": [
        "product_bought_by_user = \"B00AYLYETS\"\n",
        "\n",
        "product_names = list(X.index)\n",
        "product_ID = product_names.index(product_bought_by_user)\n",
        "\n",
        "correlation_product_ID = correlation_matrix[product_ID]\n",
        "correlation_product_ID.shape\n",
        "\n",
        "Recommend = list(X.index[correlation_product_ID > 0.90])\n",
        "\n",
        "# We do not want to suggest also the product that was just purchased/observed\n",
        "Recommend.remove(product_bought_by_user) "
      ],
      "execution_count": null,
      "outputs": []
    },
    {
      "cell_type": "code",
      "metadata": {
        "id": "eXTPD_X5X7ZX",
        "colab_type": "code",
        "colab": {
          "base_uri": "https://localhost:8080/",
          "height": 212
        },
        "outputId": "f18c897c-6d99-44c4-964c-5b20deed488c"
      },
      "source": [
        "print(\"Suggested for you... [recommendation based on customers' clustering followed by collaborative filtering]\")\n",
        "\n",
        "j = 0\n",
        "for i in Recommend[0:10]:\n",
        "  print(f'[{j+1}]\\t{i}')\n",
        "  j+=1"
      ],
      "execution_count": null,
      "outputs": [
        {
          "output_type": "stream",
          "text": [
            "Suggested for you... [recommendation based on customers' clustering followed by collaborative filtering]\n",
            "[1]\tB000HRVC5I\n",
            "[2]\tB000MS3XW2\n",
            "[3]\tB000MS5M9O\n",
            "[4]\tB000U0F9GA\n",
            "[5]\tB0018CQKXK\n",
            "[6]\tB002QANC2A\n",
            "[7]\tB002XY7HDE\n",
            "[8]\tB003GCWJFS\n",
            "[9]\tB003UTEE32\n",
            "[10]\tB004WMJDS2\n"
          ],
          "name": "stdout"
        }
      ]
    },
    {
      "cell_type": "code",
      "metadata": {
        "id": "9HKYuVTWYqyQ",
        "colab_type": "code",
        "colab": {
          "base_uri": "https://localhost:8080/",
          "height": 212
        },
        "outputId": "ceb8400e-1ee6-4b15-aa78-b66a0901bd0d"
      },
      "source": [
        "popular_products_in_the_cluster = pd.DataFrame(ratings_cluster.groupby('ProductId')['Rating'].count())\n",
        "most_popular = popular_products_in_the_cluster.sort_values('Rating', ascending=False)\n",
        "\n",
        "print(\"You may also like... [recommendation based on customers' clustering followed by popularity of products inside the cluster]\")\n",
        "\n",
        "j = 0\n",
        "for i in most_popular.head(10).index.values:\n",
        "  print(f'[{j+1}]\\t{i}')\n",
        "  j+=1\n"
      ],
      "execution_count": null,
      "outputs": [
        {
          "output_type": "stream",
          "text": [
            "You may also like... [recommendation based on customers' clustering followed by popularity of products inside the cluster]\n",
            "[1]\t5357955948\n",
            "[2]\t535795531X\n",
            "[3]\t535795545X\n",
            "[4]\t5357956111\n",
            "[5]\t6022600685\n",
            "[6]\t5357955786\n",
            "[7]\t5357955867\n",
            "[8]\t5357955905\n",
            "[9]\t4057553908\n",
            "[10]\tB001TOSNSC\n"
          ],
          "name": "stdout"
        }
      ]
    },
    {
      "cell_type": "markdown",
      "metadata": {
        "id": "jMtRpOdSa4AX",
        "colab_type": "text"
      },
      "source": [
        "We notice immediately that the most popular products, even if calculated strictly inside the user's cluster (therefore heavily pre-filtered), are not necessarily the ones that the engine would recommend when searching for similarities between the user's purchase and the choices of other (similar) users who also purchased the same product.\n",
        "\n",
        "In this contest, we suggested both:\n",
        "\n",
        "1) \"___Suggested for you...___\": most rated products by other users with similar purchase history inside the user's cluster.\n",
        "\n",
        "2) \"___You may also like...___\": most popular products inside the user's cluster.\n"
      ]
    }
  ]
}